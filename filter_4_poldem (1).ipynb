{
 "cells": [
  {
   "cell_type": "code",
   "execution_count": 9,
   "id": "df6d3010-2fa4-4053-948b-960280f7e753",
   "metadata": {},
   "outputs": [],
   "source": [
    "import pandas as pd"
   ]
  },
  {
   "cell_type": "code",
   "execution_count": 12,
   "id": "7476d2dc-c59c-4127-ac57-7035225f5fa8",
   "metadata": {},
   "outputs": [
    {
     "name": "stdout",
     "output_type": "stream",
     "text": [
      "        country iso2code country_year  year_election election_date  \\\n",
      "0       Romania       RO      RO_2012         2012.0    09/12/2012   \n",
      "1       Romania       RO      RO_2012         2012.0    09/12/2012   \n",
      "2       Romania       RO      RO_2012         2012.0    09/12/2012   \n",
      "3       Romania       RO      RO_2012         2012.0    09/12/2012   \n",
      "4       Romania       RO      RO_2012         2012.0    09/12/2012   \n",
      "...         ...      ...          ...            ...           ...   \n",
      "171409    Spain       ES      ES_2015         2015.0    20/12/2015   \n",
      "171410    Spain       ES      ES_2015         2015.0    20/12/2015   \n",
      "171411    Spain       ES      ES_2016         2016.0    26/06/2016   \n",
      "171412    Spain       ES      ES_2015         2015.0    20/12/2015   \n",
      "171413    Spain       ES      ES_2015         2015.0    20/12/2015   \n",
      "\n",
      "       election_type         source_type        source_name  \\\n",
      "0               parl  newspaper articles  Jurnalul National   \n",
      "1               parl  newspaper articles           Adevarul   \n",
      "2               parl  newspaper articles           Adevarul   \n",
      "3               parl  newspaper articles           Adevarul   \n",
      "4               parl  newspaper articles           Adevarul   \n",
      "...              ...                 ...                ...   \n",
      "171409          parl  newspaper articles            El Pais   \n",
      "171410          parl  newspaper articles            El Pais   \n",
      "171411          parl  newspaper articles           El Mundo   \n",
      "171412          parl  newspaper articles            El Pais   \n",
      "171413          parl  newspaper articles            El Pais   \n",
      "\n",
      "                                                title_art    date_art  ...  \\\n",
      "0                Pacea de la Cotroceni se impiedica de UE  19/11/2012  ...   \n",
      "1                    Mesajul lui Basescu de maxima alerta  14/11/2012  ...   \n",
      "2               Falimentul sistemului uninominal romanesc  06/12/2012  ...   \n",
      "3                                             Agricultura  07/11/2012  ...   \n",
      "4          Cum se bat USL si ARD în promisiuni electorale  07/11/2012  ...   \n",
      "...                                                   ...         ...  ...   \n",
      "171409  Los partidos independentistas impulsaran tres ...  10/11/2015  ...   \n",
      "171410  La CUP propondra un candidato de CDC como alte...  08/11/2015  ...   \n",
      "171411                        MANIFESTACIÃN CONTRA EL TC  07/05/2016  ...   \n",
      "171412  La oposición exige a Mas que renuncie a la pre...  24/10/2015  ...   \n",
      "171413  El president catalan fracasa para dirigir el p...  11/11/2015  ...   \n",
      "\n",
      "       seats seats_total  cmp euprofiler        ees castles_mair  \\\n",
      "0         13       412.0  NaN        NaN  1642600.0          NaN   \n",
      "1         13       412.0  NaN        NaN  1642600.0          NaN   \n",
      "2         13       412.0  NaN        NaN  1642600.0          NaN   \n",
      "3         13       412.0  NaN        NaN  1642600.0          NaN   \n",
      "4         13       412.0  NaN        NaN  1642600.0          NaN   \n",
      "...      ...         ...  ...        ...        ...          ...   \n",
      "171409     0       350.0  NaN        NaN        NaN          NaN   \n",
      "171410     0       350.0  NaN        NaN        NaN          NaN   \n",
      "171411     0       350.0  NaN        NaN        NaN          NaN   \n",
      "171412     0       350.0  NaN        NaN        NaN          NaN   \n",
      "171413     0       350.0  NaN        NaN        NaN          NaN   \n",
      "\n",
      "       huber_inglehart ray  benoit_laver   chess  \n",
      "0                  NaN NaN        3356.0  2702.0  \n",
      "1                  NaN NaN        3356.0  2702.0  \n",
      "2                  NaN NaN        3356.0  2702.0  \n",
      "3                  NaN NaN        3356.0  2702.0  \n",
      "4                  NaN NaN        3356.0  2702.0  \n",
      "...                ...  ..           ...     ...  \n",
      "171409             NaN NaN           NaN     NaN  \n",
      "171410             NaN NaN           NaN     NaN  \n",
      "171411             NaN NaN           NaN     NaN  \n",
      "171412             NaN NaN           NaN     NaN  \n",
      "171413             NaN NaN           NaN     NaN  \n",
      "\n",
      "[171414 rows x 38 columns]\n"
     ]
    }
   ],
   "source": [
    "file_path='resources/poldem/poldem-election_all.csv'\n",
    "data = pd.read_csv(file_path, encoding = \"ISO-8859-1\")\n",
    "print(data)"
   ]
  },
  {
   "cell_type": "code",
   "execution_count": 14,
   "id": "e7aa8069-9ea4-48b5-86c5-3f33bf86a7e1",
   "metadata": {},
   "outputs": [],
   "source": [
    "uk_data=data[data['country']=='United Kingdom']\n",
    "filter_data=uk_data[uk_data['year_election'].isin([2015,2017])]\n",
    "filtered_file_path='resources/poldem/filtered_data.csv'\n",
    "filter_data.to_csv(filtered_file_path, index=False)"
   ]
  },
  {
   "cell_type": "code",
   "execution_count": 15,
   "id": "0eab8e0c-9cf3-478d-8fda-73a654440cdb",
   "metadata": {},
   "outputs": [
    {
     "name": "stdout",
     "output_type": "stream",
     "text": [
      "Filtered data for United Kingdom in  2015 and 2017 has been saved to resources/poldem/filtered_data.csv\n"
     ]
    }
   ],
   "source": [
    "print(f\"Filtered data for United Kingdom in  2015 and 2017 has been saved to {filtered_file_path}\")"
   ]
  }
 ],
 "metadata": {
  "kernelspec": {
   "display_name": "Python 3 (ipykernel)",
   "language": "python",
   "name": "python3"
  },
  "language_info": {
   "codemirror_mode": {
    "name": "ipython",
    "version": 3
   },
   "file_extension": ".py",
   "mimetype": "text/x-python",
   "name": "python",
   "nbconvert_exporter": "python",
   "pygments_lexer": "ipython3",
   "version": "3.10.13"
  }
 },
 "nbformat": 4,
 "nbformat_minor": 5
}
