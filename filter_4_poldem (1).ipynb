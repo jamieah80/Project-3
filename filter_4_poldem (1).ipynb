{
 "cells": [
  {
   "cell_type": "code",
   "execution_count": 11,
   "id": "df6d3010-2fa4-4053-948b-960280f7e753",
   "metadata": {},
   "outputs": [],
   "source": [
    "import pandas as pd\n"
   ]
  },
  {
   "cell_type": "code",
   "execution_count": 12,
   "id": "7476d2dc-c59c-4127-ac57-7035225f5fa8",
   "metadata": {},
   "outputs": [
    {
     "name": "stderr",
     "output_type": "stream",
     "text": [
      "/var/folders/lg/n8kx68hx6h33pzm3xntmyn5m0000gn/T/ipykernel_52704/3405697007.py:2: DtypeWarning: Columns (15,17,19,20,21) have mixed types. Specify dtype option on import or set low_memory=False.\n",
      "  data=pd.read_csv(file_path)\n"
     ]
    }
   ],
   "source": [
    "file_path='/Users/varvaravecerka/Downloads/poldem-election_all_fixed.csv'\n",
    "data=pd.read_csv(file_path)\n"
   ]
  },
  {
   "cell_type": "code",
   "execution_count": 15,
   "id": "e7aa8069-9ea4-48b5-86c5-3f33bf86a7e1",
   "metadata": {},
   "outputs": [],
   "source": [
    "uk_data=data[data['country']=='United Kingdom']\n",
    "filter_data=uk_data[uk_data['year_election'].isin([2015,2017])]\n",
    "filtered_file_path='filtered_data.csv'\n",
    "filter_data.to_csv(filtered_file_path, index=False)"
   ]
  },
  {
   "cell_type": "code",
   "execution_count": 16,
   "id": "0eab8e0c-9cf3-478d-8fda-73a654440cdb",
   "metadata": {},
   "outputs": [
    {
     "name": "stdout",
     "output_type": "stream",
     "text": [
      "Filtered data for United Kingdom in  2015 and 2017 has been saved to filtered_data.csv\n"
     ]
    }
   ],
   "source": [
    "print(f\"Filtered data for United Kingdom in  2015 and 2017 has been saved to {filtered_file_path}\")"
   ]
  },
  {
   "cell_type": "code",
   "execution_count": null,
   "id": "1e9eaadc-f5b3-4f8b-947f-50b04ac899dc",
   "metadata": {},
   "outputs": [],
   "source": []
  }
 ],
 "metadata": {
  "kernelspec": {
   "display_name": "Python 3 (ipykernel)",
   "language": "python",
   "name": "python3"
  },
  "language_info": {
   "codemirror_mode": {
    "name": "ipython",
    "version": 3
   },
   "file_extension": ".py",
   "mimetype": "text/x-python",
   "name": "python",
   "nbconvert_exporter": "python",
   "pygments_lexer": "ipython3",
   "version": "3.12.1"
  }
 },
 "nbformat": 4,
 "nbformat_minor": 5
}
