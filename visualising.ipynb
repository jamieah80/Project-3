{
 "cells": [
  {
   "cell_type": "code",
   "execution_count": null,
   "metadata": {},
   "outputs": [],
   "source": [
    "import matplotlib.pyplot as plt\n",
    "from wordcloud import WordCloud\n",
    "\n",
    "def create_voter_priorities_chart(cleaned_data):\n",
    "    directory_path = 'C:/Users/admin/Desktop/Data-Analyst/Assignments/Projects/project 3/Project-3/resources/yougov'\n",
    "    save_path = f'{directory_path}/voter_priorities_all_adults.png'\n",
    "    priorities = cleaned_data['all_adults']['issue'].value_counts().head(10)\n",
    "    issues = priorities.index\n",
    "    values = priorities.values\n",
    "\n",
    "    plt.figure(figsize=(10, 6))\n",
    "    plt.bar(issues, values, color='skyblue')\n",
    "    plt.xlabel('Issues')\n",
    "    plt.ylabel('Number of Voters')\n",
    "    plt.title('Top Voter Priorities (All Adults)')\n",
    "    plt.xticks(rotation=45, ha=\"right\")\n",
    "    plt.tight_layout()\n",
    "    plt.savefig(save_path)\n",
    "    plt.close()\n",
    "\n",
    "def create_word_cloud():\n",
    "    directory_path = 'C:/Users/admin/Desktop/Data-Analyst/Assignments/Projects/project 3/Project-3/resources/yougov'\n",
    "    save_path = f'{directory_path}/media_topics.png'\n",
    "    text = \"economy healthcare education immigration economy healthcare education immigration\"\n",
    "    wordcloud = WordCloud(width=800, height=400, background_color='white').generate(text)\n",
    "    wordcloud.to_file(save_path)\n"
   ]
  }
 ],
 "metadata": {
  "language_info": {
   "name": "python"
  }
 },
 "nbformat": 4,
 "nbformat_minor": 2
}
