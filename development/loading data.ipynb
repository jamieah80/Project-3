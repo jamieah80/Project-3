{
 "cells": [
  {
   "cell_type": "code",
   "execution_count": null,
   "metadata": {},
   "outputs": [],
   "source": [
    "import pandas as pd\n",
    "\n",
    "def load_data():\n",
    "    directory_path = 'C:/Users/admin/Desktop/Data-Analyst/Assignments/Projects/project 3/Project-3/resources/yougov'\n",
    "    data_files = {\n",
    "        '25-49': f'{directory_path}/YouGov - 25 - 49.csv',\n",
    "        '50-64': f'{directory_path}/YouGov - 50 - 64.csv',\n",
    "        '65+': f'{directory_path}/YouGov - 65+.csv',\n",
    "        'all_adults': f'{directory_path}/YouGov - all adults.csv',\n",
    "        'conservative': f'{directory_path}/YouGov - Conservative.csv',\n",
    "        'female': f'{directory_path}/YouGov - Female.csv',\n",
    "        'labour': f'{directory_path}/YouGov - Labour.csv',\n",
    "        'leave': f'{directory_path}/YouGov - Leave.csv',\n",
    "        'libdems': f'{directory_path}/YouGov - LibDems.csv',\n",
    "        'male': f'{directory_path}/YouGov - Male.csv',\n",
    "        'remain': f'{directory_path}/YouGov - Remain.csv',\n",
    "        '18-24': f'{directory_path}/YouGov-18-24.csv'\n",
    "    }\n",
    "\n",
    "    data = {name: pd.read_csv(path) for name, path in data_files.items()}\n",
    "    return data\n",
    "\n",
    "def clean_data(df):\n",
    "    df = df.dropna()\n",
    "    df.columns = [col.strip().lower().replace(' ', '_') for col in df.columns]\n",
    "    return df\n",
    "\n",
    "def clean_all_data(data):\n",
    "    cleaned_data = {name: clean_data(df) for name, df in data.items()}\n",
    "    return cleaned_data\n",
    "\n",
    "def store_data_in_sqlite(cleaned_data):\n",
    "    import sqlite3\n",
    "    directory_path = 'C:/Users/admin/Desktop/Data-Analyst/Assignments/Projects/project 3/Project-3/resources/yougov'\n",
    "    db_path = f'{directory_path}/voter_data.db'\n",
    "    conn = sqlite3.connect(db_path)\n",
    "    for name, df in cleaned_data.items():\n",
    "        df.to_sql(name, conn, if_exists='replace', index=False)\n",
    "    conn.close()\n"
   ]
  },
  {
   "cell_type": "code",
   "execution_count": null,
   "metadata": {},
   "outputs": [],
   "source": [
    "def analyze_voter_priorities(cleaned_data):\n",
    "    top_issues_all_adults = cleaned_data['all_adults']['issue'].value_counts().head(10)\n",
    "    return top_issues_all_adults\n"
   ]
  }
 ],
 "metadata": {
  "language_info": {
   "name": "python"
  }
 },
 "nbformat": 4,
 "nbformat_minor": 2
}
